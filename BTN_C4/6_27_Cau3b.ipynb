{
 "cells": [
  {
   "cell_type": "code",
   "execution_count": 1,
   "metadata": {},
   "outputs": [
    {
     "name": "stdout",
     "output_type": "stream",
     "text": [
      "Vocabulary N-gram:\n",
      "[0 0 0 ... 0 0 0]\n",
      "[0 0 0 ... 0 0 0]\n"
     ]
    }
   ],
   "source": [
    "from sklearn.feature_extraction.text import CountVectorizer \n",
    "import os\n",
    "import nltk\n",
    "from urllib.parse import urlsplit\n",
    "import shutil\n",
    "\n",
    "file_store = 'D:/Khai_Pha_Web/BTN_C4/Data_Preprocessing'\n",
    "text_pre = []\n",
    "for file in os.listdir(file_store):\n",
    "    with open(os.path.join(file_store, file), 'r', encoding='utf-8') as f:\n",
    "        text = f.read()\n",
    "        text_pre.append(text)\n",
    "\n",
    "# print(text_pre)\n",
    "\n",
    "# Khởi tạo đối tượng CountVectorizer\n",
    "# Tham số ngram_range=(1,2) cho biết chúng ta muốn sử dụng N-grams từ 1 đến 2.\n",
    "vectorizer = CountVectorizer(ngram_range=(1,2))\n",
    "\n",
    "features = vectorizer.fit_transform(text_pre)\n",
    "arr=features.toarray()\n",
    "\n",
    "print(\"Vocabulary N-gram:\")\n",
    "print(arr[0])\n",
    "print(arr[1])"
   ]
  }
 ],
 "metadata": {
  "kernelspec": {
   "display_name": "Python 3",
   "language": "python",
   "name": "python3"
  },
  "language_info": {
   "codemirror_mode": {
    "name": "ipython",
    "version": 3
   },
   "file_extension": ".py",
   "mimetype": "text/x-python",
   "name": "python",
   "nbconvert_exporter": "python",
   "pygments_lexer": "ipython3",
   "version": "3.10.2"
  }
 },
 "nbformat": 4,
 "nbformat_minor": 2
}
