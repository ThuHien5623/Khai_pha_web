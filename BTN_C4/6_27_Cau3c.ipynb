{
 "cells": [
  {
   "cell_type": "code",
   "execution_count": 1,
   "metadata": {},
   "outputs": [
    {
     "name": "stdout",
     "output_type": "stream",
     "text": [
      "      ac  admin  ai_lại  ai_ngờ  anh_chị  anh_ấy  app  apple  ba_chỉ  ba_rọi  \\\n",
      "0    0.0    0.0     0.0     0.0      0.0     0.0  0.0    0.0     0.0     0.0   \n",
      "1    0.0    0.0     0.0     0.0      0.0     0.0  0.0    0.0     0.0     0.0   \n",
      "2    0.0    0.0     0.0     0.0      0.0     0.0  0.0    0.0     0.0     0.0   \n",
      "3    0.0    0.0     0.0     0.0      0.0     0.0  0.0    0.0     0.0     0.0   \n",
      "4    0.0    0.0     0.0     0.0      0.0     0.0  0.0    0.0     0.0     0.0   \n",
      "..   ...    ...     ...     ...      ...     ...  ...    ...     ...     ...   \n",
      "163  0.0    0.0     0.0     0.0      0.0     0.0  0.0    0.0     0.0     0.0   \n",
      "164  0.0    0.0     0.0     0.0      0.0     0.0  0.0    0.0     0.0     0.0   \n",
      "165  0.0    0.0     0.0     0.0      0.0     0.0  0.0    0.0     0.0     0.0   \n",
      "166  0.0    0.0     0.0     0.0      0.0     0.0  0.0    0.0     0.0     0.0   \n",
      "167  0.0    0.0     0.0     0.0      0.0     0.0  0.0    0.0     0.0     0.0   \n",
      "\n",
      "     ...  ỉu_xìu        ốc  ống   ồn  ồn_ào   ổn   ớn        ớt   ời  ức_chế  \n",
      "0    ...     0.0  0.434728  0.0  0.0    0.0  0.0  0.0  0.000000  0.0     0.0  \n",
      "1    ...     0.0  0.000000  0.0  0.0    0.0  0.0  0.0  0.000000  0.0     0.0  \n",
      "2    ...     0.0  0.000000  0.0  0.0    0.0  0.0  0.0  0.000000  0.0     0.0  \n",
      "3    ...     0.0  0.000000  0.0  0.0    0.0  0.0  0.0  0.000000  0.0     0.0  \n",
      "4    ...     0.0  0.000000  0.0  0.0    0.0  0.0  0.0  0.000000  0.0     0.0  \n",
      "..   ...     ...       ...  ...  ...    ...  ...  ...       ...  ...     ...  \n",
      "163  ...     0.0  0.100216  0.0  0.0    0.0  0.0  0.0  0.000000  0.0     0.0  \n",
      "164  ...     0.0  0.000000  0.0  0.0    0.0  0.0  0.0  0.000000  0.0     0.0  \n",
      "165  ...     0.0  0.000000  0.0  0.0    0.0  0.0  0.0  0.125094  0.0     0.0  \n",
      "166  ...     0.0  0.000000  0.0  0.0    0.0  0.0  0.0  0.000000  0.0     0.0  \n",
      "167  ...     0.0  0.000000  0.0  0.0    0.0  0.0  0.0  0.000000  0.0     0.0  \n",
      "\n",
      "[168 rows x 1853 columns]\n"
     ]
    }
   ],
   "source": [
    "from sklearn.feature_extraction.text import TfidfVectorizer\n",
    "import pandas as pd\n",
    "import os\n",
    "import nltk\n",
    "from urllib.parse import urlsplit\n",
    "import shutil\n",
    "\n",
    "file_store = 'D:/Khai_Pha_Web/BTN_C4/Data_Preprocessing'\n",
    "text_pre = []\n",
    "for file in os.listdir(file_store):\n",
    "    with open(os.path.join(file_store, file), 'r', encoding='utf-8') as f:\n",
    "        text = f.read()\n",
    "        text_pre.append(text)\n",
    "\n",
    "# print(text_pre)\n",
    "\n",
    "tr_idf_model  = TfidfVectorizer()\n",
    "tf_idf_vector = tr_idf_model.fit_transform(text_pre)\n",
    "\n",
    "tf_idf_array = tf_idf_vector.toarray()\n",
    "# print(tf_idf_array)\n",
    "\n",
    "W = tr_idf_model.get_feature_names_out()\n",
    "# print(W)\n",
    "\n",
    "df_tf_idf = pd.DataFrame(tf_idf_array, columns = W)\n",
    "print(df_tf_idf)"
   ]
  }
 ],
 "metadata": {
  "kernelspec": {
   "display_name": "Python 3",
   "language": "python",
   "name": "python3"
  },
  "language_info": {
   "codemirror_mode": {
    "name": "ipython",
    "version": 3
   },
   "file_extension": ".py",
   "mimetype": "text/x-python",
   "name": "python",
   "nbconvert_exporter": "python",
   "pygments_lexer": "ipython3",
   "version": "3.10.2"
  }
 },
 "nbformat": 4,
 "nbformat_minor": 2
}
